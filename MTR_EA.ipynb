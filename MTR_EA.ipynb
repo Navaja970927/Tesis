{
  "nbformat": 4,
  "nbformat_minor": 0,
  "metadata": {
    "colab": {
      "provenance": [],
      "authorship_tag": "ABX9TyOmEIW2Y9XkgSWkJKyfuN8n",
      "include_colab_link": true
    },
    "kernelspec": {
      "name": "python3",
      "display_name": "Python 3"
    },
    "language_info": {
      "name": "python"
    }
  },
  "cells": [
    {
      "cell_type": "markdown",
      "metadata": {
        "id": "view-in-github",
        "colab_type": "text"
      },
      "source": [
        "<a href=\"https://colab.research.google.com/github/Navaja970927/Tesis/blob/master/MTR_EA.ipynb\" target=\"_parent\"><img src=\"https://colab.research.google.com/assets/colab-badge.svg\" alt=\"Open In Colab\"/></a>"
      ]
    },
    {
      "cell_type": "code",
      "execution_count": null,
      "metadata": {
        "colab": {
          "base_uri": "https://localhost:8080/"
        },
        "id": "iM2wqZahC6SL",
        "outputId": "d9e64938-c768-4572-de84-51824ccdaa54"
      },
      "outputs": [
        {
          "output_type": "stream",
          "name": "stdout",
          "text": [
            "1.0.2\n"
          ]
        }
      ],
      "source": [
        "\n",
        "# check scikit-learn version\n",
        "import sklearn\n",
        "print(sklearn.__version__)"
      ]
    },
    {
      "cell_type": "code",
      "source": [
        "# example of multioutput regression test problem\n",
        "from sklearn.datasets import make_regression\n",
        "# create datasets\n",
        "X, y = make_regression(n_samples=500, n_features=10, n_informative=5, n_targets=5, random_state=1, noise=0.5)\n",
        "# summarize dataset\n",
        "print(X.shape, y.shape)"
      ],
      "metadata": {
        "colab": {
          "base_uri": "https://localhost:8080/"
        },
        "id": "AtiHqysSDDcK",
        "outputId": "407ca1f5-794c-4728-c0cf-dd032d0b16c8"
      },
      "execution_count": null,
      "outputs": [
        {
          "output_type": "stream",
          "name": "stdout",
          "text": [
            "(500, 10) (500, 5)\n"
          ]
        }
      ]
    },
    {
      "cell_type": "code",
      "source": [
        "!pip install amorf"
      ],
      "metadata": {
        "colab": {
          "base_uri": "https://localhost:8080/"
        },
        "id": "Y609tegMUEAO",
        "outputId": "3994bfec-6abd-4b9c-83da-0e8e476be5f8"
      },
      "execution_count": null,
      "outputs": [
        {
          "output_type": "stream",
          "name": "stdout",
          "text": [
            "Looking in indexes: https://pypi.org/simple, https://us-python.pkg.dev/colab-wheels/public/simple/\n",
            "Collecting amorf\n",
            "  Downloading amorf-0.0.5-py2.py3-none-any.whl (26 kB)\n",
            "Requirement already satisfied: numpy>=1.17.2 in /usr/local/lib/python3.7/dist-packages (from amorf) (1.21.6)\n",
            "Requirement already satisfied: torch>=1.3.1 in /usr/local/lib/python3.7/dist-packages (from amorf) (1.12.1+cu113)\n",
            "Collecting pyro-ppl>=1.0.0\n",
            "  Downloading pyro_ppl-1.8.2-py3-none-any.whl (722 kB)\n",
            "\u001b[K     |████████████████████████████████| 722 kB 8.3 MB/s \n",
            "\u001b[?25hRequirement already satisfied: scikit-learn>=0.22 in /usr/local/lib/python3.7/dist-packages (from amorf) (1.0.2)\n",
            "Requirement already satisfied: xgboost>=0.9 in /usr/local/lib/python3.7/dist-packages (from amorf) (0.90)\n",
            "Collecting liac-arff>=2.4\n",
            "  Downloading liac-arff-2.5.0.tar.gz (13 kB)\n",
            "Requirement already satisfied: opt-einsum>=2.3.2 in /usr/local/lib/python3.7/dist-packages (from pyro-ppl>=1.0.0->amorf) (3.3.0)\n",
            "Requirement already satisfied: tqdm>=4.36 in /usr/local/lib/python3.7/dist-packages (from pyro-ppl>=1.0.0->amorf) (4.64.1)\n",
            "Collecting pyro-api>=0.1.1\n",
            "  Downloading pyro_api-0.1.2-py3-none-any.whl (11 kB)\n",
            "Requirement already satisfied: scipy>=1.1.0 in /usr/local/lib/python3.7/dist-packages (from scikit-learn>=0.22->amorf) (1.7.3)\n",
            "Requirement already satisfied: threadpoolctl>=2.0.0 in /usr/local/lib/python3.7/dist-packages (from scikit-learn>=0.22->amorf) (3.1.0)\n",
            "Requirement already satisfied: joblib>=0.11 in /usr/local/lib/python3.7/dist-packages (from scikit-learn>=0.22->amorf) (1.1.0)\n",
            "Requirement already satisfied: typing-extensions in /usr/local/lib/python3.7/dist-packages (from torch>=1.3.1->amorf) (4.1.1)\n",
            "Building wheels for collected packages: liac-arff\n",
            "  Building wheel for liac-arff (setup.py) ... \u001b[?25l\u001b[?25hdone\n",
            "  Created wheel for liac-arff: filename=liac_arff-2.5.0-py3-none-any.whl size=11732 sha256=dc63a22ea5ca9324372b5b898b6b99770f89c9b13e45c3e5349e07cc274da6e4\n",
            "  Stored in directory: /root/.cache/pip/wheels/1f/0f/15/332ca86cbebf25ddf98518caaf887945fbe1712b97a0f2493b\n",
            "Successfully built liac-arff\n",
            "Installing collected packages: pyro-api, pyro-ppl, liac-arff, amorf\n",
            "Successfully installed amorf-0.0.5 liac-arff-2.5.0 pyro-api-0.1.2 pyro-ppl-1.8.2\n"
          ]
        }
      ]
    },
    {
      "cell_type": "code",
      "source": [
        "from sklearn.datasets import make_regression\n",
        "from sklearn.linear_model import LinearRegression\n",
        "from sklearn.neighbors import KNeighborsRegressor\n",
        "from sklearn.tree import DecisionTreeRegressor\n",
        "from sklearn.model_selection import cross_val_score\n",
        "from sklearn.model_selection import RepeatedKFold\n",
        "from numpy import absolute\n",
        "from numpy import mean\n",
        "from numpy import std\n",
        "from sklearn.multioutput import MultiOutputRegressor\n",
        "from sklearn.ensemble import RandomForestRegressor\n",
        "from sklearn.multioutput import RegressorChain\n",
        "from sklearn.svm import LinearSVR\n",
        "from sklearn.ensemble import GradientBoostingRegressor\n",
        "from amorf.metrics import average_relative_root_mean_squared_error\n",
        "import warnings\n",
        "warnings.filterwarnings('ignore')\n",
        "def build_model_cv(X,y,model_type):\n",
        "  if model_type=='LR':\n",
        "    model = LinearRegression()\n",
        "  elif model_type=='KNN':\n",
        "    model = KNeighborsRegressor(algorithm='auto', \n",
        "                     leaf_size=30, \n",
        "                     metric='minkowski',\n",
        "                     metric_params=None, \n",
        "                     n_jobs=1, \n",
        "                     n_neighbors=10, # default is 5\n",
        "                     p=2,         # p=2 is equivalent to euclidian distance\n",
        "                     weights='uniform')\n",
        "  elif model_type=='DT':\n",
        "    model = DecisionTreeRegressor()\n",
        "  elif model_type=='RF':\n",
        "    model = RandomForestRegressor(max_depth=2, random_state=0)\n",
        "  elif model_type=='MRF':\n",
        "    model = MultiOutputRegressor(RandomForestRegressor(max_depth=2, random_state=0))\n",
        "  elif model_type=='SVR':\n",
        "    model = MultiOutputRegressor(LinearSVR())\n",
        "  elif model_type=='RC_SVR':\n",
        "    model = RegressorChain(LinearSVR())\n",
        "  elif model_type=='GB':\n",
        "    model = MultiOutputRegressor(GradientBoostingRegressor())\n",
        "  else:\n",
        "    print('Unsuported classifier')\n",
        "    return 0\n",
        "  # fit model\n",
        "  results=[]\n",
        "  cv = RepeatedKFold(n_splits=5,n_repeats=1, random_state=25)\n",
        "  for train_ix, test_ix in cv.split(X):\n",
        "    X_train, X_test = X[train_ix], X[test_ix]\n",
        "    y_train, y_test = y[train_ix], y[test_ix]\n",
        "    model.fit(X_train, y_train)\n",
        "    y_pred = model.predict(X_test)\n",
        "    mse=average_relative_root_mean_squared_error(y_pred,y_test)\n",
        "    \n",
        "    results.append(mse)\n",
        "    \"\"\"\n",
        "    mse=[]\n",
        "    for i in range(y_test.shape[1]):\n",
        "      mse.append(np.sqrt(mean_squared_error(y_test[:,i], y_pred[:,i])))\n",
        "\t\t# store result\n",
        "    #print('>%.3f' % mse)\n",
        "    results.append(mse)\n",
        "  #n_scores = cross_val_score(model, X, y, scoring='r2', cv=cv, n_jobs=-1)\n",
        "  \"\"\"\n",
        "  print('MAE_%s: %.3f (%.3f)' % (model_type,mean(results), std(results)))\n",
        "  return results"
      ],
      "metadata": {
        "id": "1o5HNGYGDTtq"
      },
      "execution_count": null,
      "outputs": []
    },
    {
      "cell_type": "code",
      "source": [
        "from sklearn.datasets import make_regression\n",
        "from sklearn.linear_model import LinearRegression\n",
        "from sklearn.neighbors import KNeighborsRegressor\n",
        "from sklearn.tree import DecisionTreeRegressor\n",
        "from sklearn.model_selection import cross_val_score\n",
        "from sklearn.model_selection import RepeatedKFold\n",
        "from numpy import absolute\n",
        "from numpy import mean\n",
        "from numpy import std\n",
        "from sklearn.model_selection import train_test_split\n",
        "from sklearn.metrics import mean_squared_error, mean_absolute_error\n",
        "from sklearn.multioutput import MultiOutputRegressor\n",
        "from sklearn.ensemble import RandomForestRegressor\n",
        "from sklearn.multioutput import RegressorChain\n",
        "import numpy as np\n",
        "from sklearn.svm import LinearSVR\n",
        "from sklearn.ensemble import GradientBoostingRegressor\n",
        "import warnings\n",
        "warnings.filterwarnings('ignore')\n",
        "def build_model(X,y,model_type):\n",
        "  if model_type=='LR':\n",
        "    model = LinearRegression(copy_X=True, fit_intercept=True, n_jobs=None, normalize=False)\n",
        "  elif model_type=='KNN':\n",
        "    model = KNeighborsRegressor(algorithm='auto', \n",
        "                     leaf_size=30, \n",
        "                     metric='minkowski',\n",
        "                     metric_params=None, \n",
        "                     n_jobs=1, \n",
        "                     n_neighbors=10, # default is 5\n",
        "                     p=2,         # p=2 is equivalent to euclidian distance\n",
        "                     weights='uniform')\n",
        "  elif model_type=='DT':\n",
        "    model = DecisionTreeRegressor()\n",
        "  elif model_type=='RF':\n",
        "    model = RandomForestRegressor(max_depth=2, random_state=0)\n",
        "  elif model_type=='MRF':\n",
        "    model = MultiOutputRegressor(RandomForestRegressor(max_depth=2, random_state=0))\n",
        "  elif model_type=='SVR':\n",
        "    model = MultiOutputRegressor(LinearSVR())\n",
        "  elif model_type=='RC_SVR':\n",
        "    model = RegressorChain(LinearSVR())\n",
        "  elif model_type=='GB':\n",
        "    model = MultiOutputRegressor(GradientBoostingRegressor())\n",
        "  else:\n",
        "    print('Unsuported classifier')\n",
        "    return 0\n",
        "  # fit model\n",
        "  X_train, X_test, y_train, y_test = train_test_split(X, y, test_size=0.20, random_state=33)\n",
        "  model.fit(X_train, y_train)\n",
        "  y_pred = model.predict(X_test)\n",
        "  mse=[]\n",
        "  for i in range(y_test.shape[1]):\n",
        "    mse.append(np.sqrt(mean_squared_error(y_test[:,i], y_pred[:,i])))\n",
        "  print('MSE_%s: %.3f (%.3f)' % (model_type,mean(mse), std(mse)))\n",
        "\n",
        "  return mse "
      ],
      "metadata": {
        "id": "ziwIl1HcUJWN"
      },
      "execution_count": null,
      "outputs": []
    },
    {
      "cell_type": "code",
      "source": [
        "model_type=['LR','KNN','DT','RF','MRF', 'SVR','RC_SVR','GB']\n",
        "result={}\n",
        "result.fromkeys(model_type)\n",
        "for m in model_type:\n",
        "  result[m]=build_model_cv(X,y,m)\n",
        "print(result)\n",
        "  \n"
      ],
      "metadata": {
        "colab": {
          "base_uri": "https://localhost:8080/"
        },
        "id": "XnMOMKUtJydo",
        "outputId": "232b7c62-4b8f-402b-dab6-2bdc121c4b0b"
      },
      "execution_count": null,
      "outputs": [
        {
          "output_type": "stream",
          "name": "stdout",
          "text": [
            "MAE_LR: 0.004 (0.000)\n",
            "MAE_KNN: 0.500 (0.023)\n",
            "MAE_DT: 0.651 (0.061)\n",
            "MAE_RF: 0.717 (0.032)\n",
            "MAE_MRF: 0.616 (0.029)\n",
            "MAE_SVR: 0.005 (0.000)\n",
            "MAE_RC_SVR: 0.013 (0.005)\n",
            "MAE_GB: 0.225 (0.011)\n",
            "{'LR': [0.003786468342818941, 0.004393637989072703, 0.00469948499525428, 0.004232166690487738, 0.004526492911039851], 'KNN': [0.5276813283737234, 0.47098008570555006, 0.5045811696060591, 0.4759139146160364, 0.5223252193615726], 'DT': [0.6322152921289985, 0.7204193171913255, 0.6600507004972795, 0.5460994592350199, 0.6967490350216237], 'RF': [0.6957683866739864, 0.7156740471236134, 0.7136568093841806, 0.6834374513751804, 0.7764253358950143], 'MRF': [0.6091059308274195, 0.6112931175942335, 0.608233451522593, 0.5822356652318479, 0.6689124774591622], 'SVR': [0.004243489251077004, 0.004705743557682796, 0.00504118814980991, 0.004675202848463235, 0.004839409323235529], 'RC_SVR': [0.008800396088765743, 0.009163711001003667, 0.00832083803749843, 0.015193888946991332, 0.02148926199823476], 'GB': [0.23780211882599392, 0.21645102050837597, 0.2222334452909916, 0.2117749225443986, 0.23747663037664943]}\n"
          ]
        }
      ]
    },
    {
      "cell_type": "code",
      "source": [
        "# k-nearest neighbors for multioutput regression\n",
        "from sklearn.datasets import make_regression\n",
        "from sklearn.neighbors import KNeighborsRegressor\n",
        "# create datasets\n",
        "#X, y = make_regression(n_samples=1000, n_features=10, n_informative=5, n_targets=2, random_state=1, noise=0.5)\n",
        "# define model\n",
        "model = KNeighborsRegressor()\n",
        "# fit model\n",
        "model.fit(X, y)\n",
        "# make a prediction\n",
        "#row = [0.21947749, 0.32948997, 0.81560036, 0.440956, -0.0606303, -0.29257894, -0.2820059, -0.00290545, 0.96402263, 0.04992249]\n",
        "yhat1 = model.predict([row])\n",
        "# summarize prediction\n",
        "print(yhat1[0])"
      ],
      "metadata": {
        "colab": {
          "base_uri": "https://localhost:8080/",
          "height": 259
        },
        "id": "TsGlgujpFA1h",
        "outputId": "78130372-c50e-4b99-e58c-238d465cddc6"
      },
      "execution_count": null,
      "outputs": [
        {
          "output_type": "error",
          "ename": "NameError",
          "evalue": "ignored",
          "traceback": [
            "\u001b[0;31m---------------------------------------------------------------------------\u001b[0m",
            "\u001b[0;31mNameError\u001b[0m                                 Traceback (most recent call last)",
            "\u001b[0;32m<ipython-input-6-fe02eaef4aee>\u001b[0m in \u001b[0;36m<module>\u001b[0;34m\u001b[0m\n\u001b[1;32m     10\u001b[0m \u001b[0;31m# make a prediction\u001b[0m\u001b[0;34m\u001b[0m\u001b[0;34m\u001b[0m\u001b[0;34m\u001b[0m\u001b[0m\n\u001b[1;32m     11\u001b[0m \u001b[0;31m#row = [0.21947749, 0.32948997, 0.81560036, 0.440956, -0.0606303, -0.29257894, -0.2820059, -0.00290545, 0.96402263, 0.04992249]\u001b[0m\u001b[0;34m\u001b[0m\u001b[0;34m\u001b[0m\u001b[0;34m\u001b[0m\u001b[0m\n\u001b[0;32m---> 12\u001b[0;31m \u001b[0myhat1\u001b[0m \u001b[0;34m=\u001b[0m \u001b[0mmodel\u001b[0m\u001b[0;34m.\u001b[0m\u001b[0mpredict\u001b[0m\u001b[0;34m(\u001b[0m\u001b[0;34m[\u001b[0m\u001b[0mrow\u001b[0m\u001b[0;34m]\u001b[0m\u001b[0;34m)\u001b[0m\u001b[0;34m\u001b[0m\u001b[0;34m\u001b[0m\u001b[0m\n\u001b[0m\u001b[1;32m     13\u001b[0m \u001b[0;31m# summarize prediction\u001b[0m\u001b[0;34m\u001b[0m\u001b[0;34m\u001b[0m\u001b[0;34m\u001b[0m\u001b[0m\n\u001b[1;32m     14\u001b[0m \u001b[0mprint\u001b[0m\u001b[0;34m(\u001b[0m\u001b[0myhat1\u001b[0m\u001b[0;34m[\u001b[0m\u001b[0;36m0\u001b[0m\u001b[0;34m]\u001b[0m\u001b[0;34m)\u001b[0m\u001b[0;34m\u001b[0m\u001b[0;34m\u001b[0m\u001b[0m\n",
            "\u001b[0;31mNameError\u001b[0m: name 'row' is not defined"
          ]
        }
      ]
    },
    {
      "cell_type": "code",
      "source": [
        "# decision tree for multioutput regression\n",
        "from sklearn.datasets import make_regression\n",
        "from sklearn.tree import DecisionTreeRegressor\n",
        "# create datasets\n",
        "#X, y = make_regression(n_samples=1000, n_features=10, n_informative=5, n_targets=2, random_state=1, noise=0.5)\n",
        "# define model\n",
        "model = DecisionTreeRegressor()\n",
        "# fit model\n",
        "model.fit(X, y)\n",
        "# make a prediction\n",
        "#row = [0.21947749, 0.32948997, 0.81560036, 0.440956, -0.0606303, -0.29257894, -0.2820059, -0.00290545, 0.96402263, 0.04992249]\n",
        "yhat2 = model.predict([row])\n",
        "# summarize prediction\n",
        "print(yhat2[0])"
      ],
      "metadata": {
        "id": "gXppUc6FFn-U"
      },
      "execution_count": null,
      "outputs": []
    }
  ]
}